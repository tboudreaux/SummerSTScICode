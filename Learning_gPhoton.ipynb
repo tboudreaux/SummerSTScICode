{
 "cells": [
  {
   "cell_type": "markdown",
   "metadata": {},
   "source": [
    "# This Worksheet will hopefully be a refernce for you to remeber how to use different aspects of gPhoton in the future, and if anyone wants to learn as well hopefully this will be able to help them do so "
   ]
  },
  {
   "cell_type": "code",
   "execution_count": 2,
   "metadata": {
    "collapsed": false
   },
   "outputs": [
    {
     "name": "stderr",
     "output_type": "stream",
     "text": [
      "/Users/tboudreaux/anaconda/lib/python2.7/site-packages/matplotlib/font_manager.py:273: UserWarning: Matplotlib is building the font cache using fc-list. This may take a moment.\n",
      "  warnings.warn('Matplotlib is building the font cache using fc-list. This may take a moment.')\n"
     ]
    }
   ],
   "source": [
    "# import gPhoton moduels by from gPhoton.module import module\n",
    "from gPhoton.gFind import gFind\n",
    "from gPhoton.gMap import gMap\n",
    "from gPhoton.gAperture import gAperture\n",
    "from gPhoton.gphoton_utils import read_lc\n",
    "import gPhoton.gMap\n",
    "import gPhoton.gAperture\n",
    "import matplotlib.pyplot as plt\n",
    "import numpy as np\n",
    "from astropy.io import fits\n",
    "import os\n",
    "%matplotlib inline"
   ]
  },
  {
   "cell_type": "markdown",
   "metadata": {},
   "source": [
    "# gMap - used to generate fits files for a particulat location in the sky | gMap output should be avloided for hard analysis and instead used for quick checks and visulizations, this is because gMap images are not intensity calibrated."
   ]
  },
  {
   "cell_type": "code",
   "execution_count": 24,
   "metadata": {
    "collapsed": false
   },
   "outputs": [],
   "source": [
    "gMap(band='NUV', skypos=[0.095125,0.109931], skyrange=[0.05, 0.05], intfile='test3.fits', \n",
    "     overwrite=True)"
   ]
  },
  {
   "cell_type": "code",
   "execution_count": 65,
   "metadata": {
    "collapsed": false
   },
   "outputs": [
    {
     "name": "stdout",
     "output_type": "stream",
     "text": [
      "NUV: 3711.0s (raw) in 5 exposures.\n",
      "    [ 750688158.995, 750688272.995 ], 114.000 seconds\n",
      "    [ 875248746.995, 875249191.995 ], 445.000 seconds\n",
      "    [ 875349342.995, 875350679.995 ], 1337.000 seconds\n",
      "    [ 875355260.995, 875356795.995 ], 1535.000 seconds\n",
      "    [ 875397938.995, 875398218.995 ], 280.000 seconds\n"
     ]
    },
    {
     "data": {
      "text/plain": [
       "{'NUV': {'expt': 3711.0,\n",
       "  't0': array([  7.50688159e+08,   8.75248747e+08,   8.75349343e+08,\n",
       "           8.75355261e+08,   8.75397939e+08]),\n",
       "  't1': array([  7.50688273e+08,   8.75249192e+08,   8.75350680e+08,\n",
       "           8.75356796e+08,   8.75398219e+08])}}"
      ]
     },
     "execution_count": 65,
     "metadata": {},
     "output_type": "execute_result"
    }
   ],
   "source": [
    "gFind(band='NUV', skypos=[0.095125,0.109931], maxgap=100., minexp=100.)"
   ]
  },
  {
   "cell_type": "markdown",
   "metadata": {},
   "source": [
    "# This is the general help form for gPhoton modules -> the actual things are methods inside modules inside the total gPhoton package"
   ]
  },
  {
   "cell_type": "code",
   "execution_count": 71,
   "metadata": {
    "collapsed": false
   },
   "outputs": [
    {
     "name": "stdout",
     "output_type": "stream",
     "text": [
      "Help on module gPhoton.gAperture in gPhoton:\n",
      "\n",
      "NAME\n",
      "    gPhoton.gAperture - .. module:: gAperture\n",
      "\n",
      "FILE\n",
      "    /Users/tboudreaux/.local/lib/python2.7/site-packages/gPhoton-1.27.1-py2.7.egg/gPhoton/gAperture.py\n",
      "\n",
      "DESCRIPTION\n",
      "       :synopsis: Module for the creation of GALEX  light curves with user-defined\n",
      "       time bins and photometric apertures.\n",
      "    \n",
      "    .. moduleauthor:: Chase Million <chase.million@gmail.com>\n",
      "\n",
      "FUNCTIONS\n",
      "    __main__()\n",
      "        Called when gAperture is executed through the command line.\n",
      "    \n",
      "    check_annulus(args)\n",
      "        Checks and formats the annulus values.\n",
      "        \n",
      "        :param args: The command-line arguments.\n",
      "        \n",
      "        :type args: argparse.ArgumentParser Namespace\n",
      "        \n",
      "        :returns: argparse.ArgumentParser Namespace -- The updated command-line\n",
      "        arguments.\n",
      "    \n",
      "    check_args(args, iam='gaperture')\n",
      "        Checks validity of command line arguments and, in some cases\n",
      "        modifies them a little bit.\n",
      "        \n",
      "        :param args: The command-line arguments.\n",
      "        \n",
      "        :type args: argparse.ArgumentParser Namespace\n",
      "        \n",
      "        :param iam: The name of the method being called.\n",
      "        \n",
      "        :type iam: str\n",
      "        \n",
      "        :returns: argparse.ArgumentParser Namespace -- The updated command-line\n",
      "        arguments.\n",
      "    \n",
      "    check_radius(args)\n",
      "        Checks the radius value.\n",
      "        \n",
      "        :param args: The command-line arguments.\n",
      "        \n",
      "        :type args: argparse.ArgumentParser Namespace\n",
      "        \n",
      "        :returns: argparse.ArgumentParser Namespace -- The updated command-line\n",
      "        arguments.\n",
      "    \n",
      "    gAperture(band, skypos, radius, csvfile=None, annulus=None, coadd=False, stepsz=False, verbose=0, overwrite=False, trange=None, tranges=None, minexp=1.0, maxgap=1500.0, iocode='wb', detsize=1.1, minimal_output=False)\n",
      "        Creates a light curve and returns the data in a python dict() and as\n",
      "        a CSV file, if outfile is specified. Can be called from the interpreter.\n",
      "        \n",
      "        :param band: The band being used, either 'FUV' or 'NUV'.\n",
      "        \n",
      "        :type band: str\n",
      "        \n",
      "        :param skypos: The right ascension and declination, in degrees.\n",
      "        \n",
      "        :type skypos: list\n",
      "        \n",
      "        :param radius: The radius of the photometric aperture, in degrees.\n",
      "        \n",
      "        :type radius: float\n",
      "        \n",
      "        :param csvfile: Name of the photon event CSV file to use.\n",
      "        \n",
      "        :type csvfile: str\n",
      "        \n",
      "        :param annulus: Radii of the inner and outer of an annulus, in degrees,\n",
      "        within which to measure the background.\n",
      "        \n",
      "        :type annulus: list\n",
      "        \n",
      "        :param coadd: Set to True if calculating a total flux instead of flux\n",
      "        from each time bin.\n",
      "        \n",
      "        :type coadd: bool\n",
      "        \n",
      "        :param stepsz: The size of the time bins to use, in seconds.\n",
      "        \n",
      "        :type stepsz: float\n",
      "        \n",
      "        :param verbose: Verbosity level, a value of 0 is minimum verbosity.\n",
      "        \n",
      "        :type verbose: int\n",
      "        \n",
      "        :param overwrite: If True, overwite an existing output file.\n",
      "        \n",
      "        :type overwrite: bool\n",
      "        \n",
      "        :param trange: Minimum and maximum time range to make a light curve,\n",
      "        in GALEX time seconds.\n",
      "        \n",
      "        :type trange: list\n",
      "        \n",
      "        :param tranges: Set of time ranges to query within, in GALEX time seconds.\n",
      "        \n",
      "        :type tranges: list\n",
      "        \n",
      "        :param minexp: Minimum gap size, in seconds, for data to be considered\n",
      "        contiguous.\n",
      "        \n",
      "        :type minexp: float\n",
      "        \n",
      "        :param maxgap: Maximum gap size, in seconds, for data to be considered\n",
      "        contiguous.\n",
      "        \n",
      "        :type maxgap: float\n",
      "        \n",
      "        :param iocode: The code to use when writing the output file.\n",
      "        \n",
      "        :type iocode: str\n",
      "        \n",
      "        :param detsize: Effective diameter, in degrees, of the field-of-view.\n",
      "        \n",
      "        :type detsize: float\n",
      "        \n",
      "        :param minimal_output: If True, produce an output file with a minimum\n",
      "        number of columns.\n",
      "        \n",
      "        :type minimal_output: bool\n",
      "        \n",
      "        :returns: dict -- The light curve, including input parameters.\n",
      "    \n",
      "    reconstruct_command(args)\n",
      "        Rebuild the equivalent command line for this call to gAperture.\n",
      "        \n",
      "        :param args: The command-line arguments.\n",
      "        \n",
      "        :type args: argparse.ArgumentParser Namespace\n",
      "        \n",
      "        :returns: str -- The equivalent command-line for this call to gAperture.\n",
      "    \n",
      "    setup_file(args)\n",
      "        If requested, create a header for the CSV that includes the column\n",
      "        names and a reconstruction of the command line call.\n",
      "        \n",
      "        :param args: The command-line arguments.\n",
      "        \n",
      "        :type args: argparse.ArgumentParser Namespace\n",
      "        \n",
      "        :returns: argparse.ArgumentParser Namespace -- The updated command-line\n",
      "        arguments.\n",
      "    \n",
      "    setup_parser(iam='gaperture')\n",
      "        Defines command line arguments.\n",
      "        \n",
      "        :param iam: The name of the method being called.\n",
      "        \n",
      "        :type iam: str\n",
      "        \n",
      "        :returns: argparse.ArgumentParser Namespace -- The command-line arguments.\n",
      "    \n",
      "    stamp(args)\n",
      "        Creates a jpeg preview image stamp of the targeted region.\n",
      "        \n",
      "        :param args: The command-line arguments.\n",
      "        \n",
      "        :type args: argparse.ArgumentParser Namespace\n",
      "\n",
      "DATA\n",
      "    __version__ = '1.27.1'\n",
      "\n",
      "VERSION\n",
      "    1.27.1\n",
      "\n",
      "\n",
      "Help on module gPhoton.gMap in gPhoton:\n",
      "\n",
      "NAME\n",
      "    gPhoton.gMap - .. module:: gMap\n",
      "\n",
      "FILE\n",
      "    /Users/tboudreaux/.local/lib/python2.7/site-packages/gPhoton-1.27.1-py2.7.egg/gPhoton/gMap.py\n",
      "\n",
      "DESCRIPTION\n",
      "       :synopsis: Create images and image cubes.\n",
      "    \n",
      "    .. moduleauthor:: Chase Million <chase.million@gmail.com>\n",
      "\n",
      "FUNCTIONS\n",
      "    __main__()\n",
      "        Called when gMap is executed directly through the command line.\n",
      "    \n",
      "    check_args(args, iam='gmap')\n",
      "        Checks validity of command line arguments and, in some cases\n",
      "        modifies them a little bit.\n",
      "        \n",
      "        :param args: The command-line arguments.\n",
      "        \n",
      "        :type args: argparse.ArgumentParser Namespace\n",
      "        \n",
      "        :param iam: The name of the method being called.\n",
      "        \n",
      "        :type iam: str\n",
      "        \n",
      "        :returns: argparse.ArgumentParser Namespace -- The updated command-line\n",
      "        arguments.\n",
      "    \n",
      "    gMap(band, cntfile=None, coadd=None, detsize=1.1, intfile=None, skypos=None, maxgap=1500.0, memlight=100.0, minexp=1.0, overwrite=False, retries=100, skyrange=None, stepsz=0.0, trange=None, verbose=0, cntcoaddfile=False, intcoaddfile=False)\n",
      "        Use a mix of strings (if we want to make an output file) and Booleans\n",
      "        (False if we do not). I don't think this is the best way (I'd rather\n",
      "        have separate variables for the True/False to create an image, and a\n",
      "        string with the name of the output image), but for now this is kept since\n",
      "        this is how the code was originally written.\n",
      "        \n",
      "        :param band: The band being used, either 'FUV' or 'NUV'.\n",
      "        \n",
      "        :type band: str\n",
      "        \n",
      "        :param cntfile: Name of the count file to make.\n",
      "        \n",
      "        :type cntfile: str\n",
      "        \n",
      "        :param coadd: If true, create a coadd image using all available data within\n",
      "        the specified time range (don't use time bins).\n",
      "        \n",
      "        :type coadd: bool\n",
      "        \n",
      "        :param detsize: Effective diameter, in degrees, of the field-of-view.\n",
      "        \n",
      "        :type detsize: float\n",
      "        \n",
      "        :param intfile: Name of intensity file to make.\n",
      "        \n",
      "        :type intfile: str\n",
      "        \n",
      "        :param skypos: The right ascension and declination, in degrees.\n",
      "        \n",
      "        :type skypos: list\n",
      "        \n",
      "        :param maxgap: Maximum gap size, in seconds, for data to be considered\n",
      "        contiguous.\n",
      "        \n",
      "        :type maxgap: float\n",
      "        \n",
      "        :param memlight: If specified, breaks the queries into sections of this\n",
      "        many seconds.\n",
      "        \n",
      "        :type memlight: float\n",
      "        \n",
      "        :param minexp: Minimum gap size, in seconds, for data to be considered\n",
      "        contiguous.\n",
      "        \n",
      "        :type minexp: float\n",
      "        \n",
      "        :param overwrite: If True, overwite an existing output file.\n",
      "        \n",
      "        :type overwrite: bool\n",
      "        \n",
      "        :param retries: Number of query retries to attempt before giving up.\n",
      "        \n",
      "        :type retries: int\n",
      "        \n",
      "        :param skyrange: RA and Dec extents, in degrees, that define the lengths\n",
      "        of edges of a box on the sky, centered at skypos, that defines the\n",
      "        sky region of interest.\n",
      "        \n",
      "        :type skyrange: list\n",
      "        \n",
      "        :param stepsz: The size of the time bins to use, in seconds.\n",
      "        \n",
      "        :type stepsz: float\n",
      "        \n",
      "        :param trange: Minimum and maximum time range to make images for,\n",
      "        in GALEX time.\n",
      "        \n",
      "        :type trange: list\n",
      "        \n",
      "        :param verbose: Verbosity level, a value of 0 is minimum verbosity.\n",
      "        \n",
      "        :type verbose: int\n",
      "        \n",
      "        :param cntcoaddfile: Name of the count coadd file to make.\n",
      "        \n",
      "        :type cntcoaddfile: str\n",
      "        \n",
      "        :param intcoaddfile: Name of the intensity coadd file to make.\n",
      "        \n",
      "        :type intcoaddfile: str\n",
      "    \n",
      "    setup_parser(iam='gmap')\n",
      "        Defines command line arguments.\n",
      "        \n",
      "        :param iam: The name of the method being called.\n",
      "        \n",
      "        :type iam: str\n",
      "        \n",
      "        :returns: argparse.ArgumentParser Namespace -- The command-line arguments.\n",
      "\n",
      "\n",
      "Help on module gPhoton.gFind in gPhoton:\n",
      "\n",
      "NAME\n",
      "    gPhoton.gFind - .. module:: gFind\n",
      "\n",
      "FILE\n",
      "    /Users/tboudreaux/.local/lib/python2.7/site-packages/gPhoton-1.27.1-py2.7.egg/gPhoton/gFind.py\n",
      "\n",
      "DESCRIPTION\n",
      "       :synopsis: Find total amount of available data by position.\n",
      "    \n",
      "    .. moduleauthor:: Chase Million <chase.million@gmail.com>\n",
      "\n",
      "FUNCTIONS\n",
      "    __main__()\n",
      "        Called when gFind is executed directly through the command line.\n",
      "    \n",
      "    check_args(args, iam='gfind', allow_no_coords=False)\n",
      "        Checks validity of command line arguments and, in some cases,\n",
      "        modifies them a little bit.\n",
      "        \n",
      "        :param args: The command-line arguments.\n",
      "        \n",
      "        :type args: argparse.ArgumentParser Namespace\n",
      "        \n",
      "        :param iam: The name of the method being called.\n",
      "        \n",
      "        :type iam: str\n",
      "        \n",
      "        :param allow_no_coords: If True, do not require coordinates to be provided.\n",
      "        \n",
      "        :type allow_no_coords: bool\n",
      "        \n",
      "        :returns: argparse.ArgumentParser Namespace -- The updated command-line\n",
      "        arguments.\n",
      "    \n",
      "    gFind(band='both', detsize=1.1, exponly=False, gaper=False, maxgap=1500.0, minexp=1.0, quiet=False, retries=100, skypos=None, trange=None, verbose=0, skyrange=None)\n",
      "        Primary program in the module. Prints time ranges to the screen and\n",
      "        returns the total exposure time as a float.\n",
      "        \n",
      "        :param band: The band being used, either 'BOTH', 'FUV', or 'NUV'.\n",
      "        \n",
      "        :type band: str\n",
      "        \n",
      "        :param detsize: Effective diameter, in degrees, of the field-of-view.\n",
      "        \n",
      "        :type detsize: float\n",
      "        \n",
      "        :param exponly: If True, only report the exposure times.\n",
      "        \n",
      "        :type exponly: bool\n",
      "        \n",
      "        :param gaper: Return time ranges in a format that can be copy-pasted as\n",
      "        a valid gAperture call.\n",
      "        \n",
      "        :type gaper: bool\n",
      "        \n",
      "        :param maxgap: Maximum gap size, in seconds, for data to be considered\n",
      "        contiguous.\n",
      "        \n",
      "        :type maxgap: float\n",
      "        \n",
      "        :param minexp: Minimum gap size, in seconds, for data to be considered\n",
      "        contiguous.\n",
      "        \n",
      "        :type minexp: float\n",
      "        \n",
      "        :param quiet: If True, don't print anything to STDOUT. Overrides verbose.\n",
      "        \n",
      "        :type quiet: bool\n",
      "        \n",
      "        :param retries: Number of query retries to attempt before giving up.\n",
      "        \n",
      "        :type retries: int\n",
      "        \n",
      "        :param skypos: The right ascension and declination, in degrees.\n",
      "        \n",
      "        :type skypos: list\n",
      "        \n",
      "        :param trange: Minimum and maximum time range to make a light curve,\n",
      "        in GALEX time.\n",
      "        \n",
      "        :type trange: list\n",
      "        \n",
      "        :param verbose: Verbosity level, a value of 0 is minimum verbosity.\n",
      "        \n",
      "        :type verbose: int\n",
      "        \n",
      "        :param skyrange: RA and Dec extents, in degrees, defining the lengths of\n",
      "        sides of a box on the sky that circumscribes the region of interest.\n",
      "        \n",
      "        :type skyrange: list\n",
      "        \n",
      "        :returns: dict -- The available data for the requested band(s).\n",
      "    \n",
      "    setup_parser(iam='gfind', parser=None)\n",
      "        If a parser object is not provided, make one here.\n",
      "        \n",
      "        :param iam: The name of the method being called.\n",
      "        \n",
      "        :type iam: str\n",
      "        \n",
      "        :param parser: The command-line arguments.\n",
      "        \n",
      "        :type parser: argparse.ArgumentParser Namespace\n",
      "        \n",
      "        :returns: argparse.ArgumentParser Namespace -- The command-line arguments.\n",
      "\n",
      "\n"
     ]
    }
   ],
   "source": [
    "help(gPhoton.gAperture)\n",
    "help(gPhoton.gMap)\n",
    "help(gPhoton.gFind)"
   ]
  },
  {
   "cell_type": "markdown",
   "metadata": {},
   "source": [
    "# gAperture returns intensity calibrated data in a delimited format that can be plotted imedidiatly to a light curve\n",
    "# It should also be noted here that all moduels that I've used so far can be stored as python dicts, so thats the object that these variables are getting assigned to"
   ]
  },
  {
   "cell_type": "code",
   "execution_count": 30,
   "metadata": {
    "collapsed": false
   },
   "outputs": [
    {
     "name": "stdout",
     "output_type": "stream",
     "text": [
      "AB Magnitudes:               \n",
      "[ 15.79396479  15.80814471  15.81670107  13.05747382  15.7894637\n",
      "  15.82261987]\n"
     ]
    }
   ],
   "source": [
    "gaData = gAperture(band='NUV', skypos=[176.919525856024,0.255696872807351], radius=0.03)"
   ]
  },
  {
   "cell_type": "code",
   "execution_count": 34,
   "metadata": {
    "collapsed": false
   },
   "outputs": [
    {
     "name": "stdout",
     "output_type": "stream",
     "text": [
      "['flat_counts', 'mcat_bg', 'bg_counts', 'flux_bgsub_err', 'cps_mcatbgsub', 'counts', 'mag_mcatbgsub', 'cps_err', 'mag_bgsub', 'cps_bgsub', 'detys', 'flux_bgsub', 'flux_err', 'mag_err_1', 'params', 'cps_bgsub_err', 't1_data', 'bg', 'responses', 't_mean', 'cps_mcatbgsub_err', 'mag_bgsub_err_1', 'mag_err_2', 't0_data', 'racent', 'deccent', 'mag', 'exptime', 'bg_flat_counts', 'detxs', 't0', 't1', 'mag_mcatbgsub_err_2', 'flux', 'mag_mcatbgsub_err_1', 'flags', 'mag_bgsub_err_2', 'detrad', 'cps', 'flux_mcatbgsub_err', 'photons', 'flux_mcatbgsub']\n"
     ]
    }
   ],
   "source": [
    "print gaData.keys()"
   ]
  },
  {
   "cell_type": "code",
   "execution_count": 36,
   "metadata": {
    "collapsed": false,
    "scrolled": false
   },
   "outputs": [
    {
     "name": "stdout",
     "output_type": "stream",
     "text": [
      "AB Magnitudes:               \n",
      "[ 13.05747382]\n"
     ]
    }
   ],
   "source": [
    "gaData = gAperture(band='NUV', skypos=[176.919525856024,0.255696872807351]\n",
    "                   , radius=0.03, annulus=[0.03, 0.04], trange=[766525332.995\n",
    "                  ,766526576.995])"
   ]
  },
  {
   "cell_type": "markdown",
   "metadata": {},
   "source": [
    "# Here I generate a light curve using gAperature, stepsz parameter defines (in seconds) the integration size per bin obever the time range (trange) that I have defined (trange is defined in GALEX time), if no trange is defined then gAperature will use all avalible data for the given target"
   ]
  },
  {
   "cell_type": "code",
   "execution_count": 40,
   "metadata": {
    "collapsed": false
   },
   "outputs": [],
   "source": [
    "gaData = gAperture(band='NUV', skypos=[176.919525856024,0.255696872807351]\n",
    "                   , radius=0.03, annulus=[0.03, 0.04], stepsz=100, csvfile='lctone.csv')"
   ]
  },
  {
   "cell_type": "code",
   "execution_count": 41,
   "metadata": {
    "collapsed": true
   },
   "outputs": [],
   "source": [
    "Mags = gaData['mag']"
   ]
  },
  {
   "cell_type": "code",
   "execution_count": 43,
   "metadata": {
    "collapsed": false
   },
   "outputs": [
    {
     "name": "stdout",
     "output_type": "stream",
     "text": [
      "41\n"
     ]
    }
   ],
   "source": [
    "print len(Mags)"
   ]
  },
  {
   "cell_type": "code",
   "execution_count": 48,
   "metadata": {
    "collapsed": false
   },
   "outputs": [],
   "source": [
    "x = np.linspace(0,4100, 41)"
   ]
  },
  {
   "cell_type": "code",
   "execution_count": 49,
   "metadata": {
    "collapsed": false
   },
   "outputs": [
    {
     "name": "stdout",
     "output_type": "stream",
     "text": [
      "[    0.    102.5   205.    307.5   410.    512.5   615.    717.5   820.\n",
      "   922.5  1025.   1127.5  1230.   1332.5  1435.   1537.5  1640.   1742.5\n",
      "  1845.   1947.5  2050.   2152.5  2255.   2357.5  2460.   2562.5  2665.\n",
      "  2767.5  2870.   2972.5  3075.   3177.5  3280.   3382.5  3485.   3587.5\n",
      "  3690.   3792.5  3895.   3997.5  4100. ]\n"
     ]
    }
   ],
   "source": [
    "print x"
   ]
  },
  {
   "cell_type": "code",
   "execution_count": 55,
   "metadata": {
    "collapsed": false
   },
   "outputs": [
    {
     "data": {
      "text/plain": [
       "[<matplotlib.lines.Line2D at 0x113c1f050>]"
      ]
     },
     "execution_count": 55,
     "metadata": {},
     "output_type": "execute_result"
    },
    {
     "data": {
      "image/png": "[encoded data removed]",
      "text/plain": [
       "<matplotlib.figure.Figure at 0x12061e4d0>"
      ]
     },
     "metadata": {},
     "output_type": "display_data"
    }
   ],
   "source": [
    "plt.plot(x, Mags, 'o')"
   ]
  },
  {
   "cell_type": "markdown",
   "metadata": {},
   "source": [
    "# So to make a note of what I did above there, I used gAperature to extract infomration about a specific location in the sky, that returnes a large dictionary, full of information usefull when one needs to do more ricourous science for callibration checkiing and whatnot. There is an entery in the dictionaly - 'mag', I extracted the informatoin from that and dumped it into a list for ease of accese. The I generated a time array with the first element being 0s and the last one being 4100s and 41 points inbetween. I got 4100s because I set my integration time to be 100s and I checked and that returned 41 results, thus 4100s. Simplly plotting them in matplot lib shows the flare that is talked about on the github user manual. "
   ]
  },
  {
   "cell_type": "code",
   "execution_count": 57,
   "metadata": {
    "collapsed": false
   },
   "outputs": [],
   "source": [
    "image_file = 'test3.fits'"
   ]
  },
  {
   "cell_type": "code",
   "execution_count": 58,
   "metadata": {
    "collapsed": false
   },
   "outputs": [
    {
     "name": "stdout",
     "output_type": "stream",
     "text": [
      "Filename: test3.fits\n",
      "No.    Name         Type      Cards   Dimensions   Format\n",
      "0    PRIMARY     PrimaryHDU      19   (119, 120, 8)   float64   \n",
      "1                BinTableHDU     14   8R x 3C      [E, E, E]   \n"
     ]
    }
   ],
   "source": [
    "hdu_list = fits.open(image_file)\n",
    "hdu_list.info()"
   ]
  },
  {
   "cell_type": "code",
   "execution_count": 59,
   "metadata": {
    "collapsed": true
   },
   "outputs": [],
   "source": [
    "image_data = hdu_list[0].data"
   ]
  },
  {
   "cell_type": "code",
   "execution_count": 60,
   "metadata": {
    "collapsed": true
   },
   "outputs": [],
   "source": [
    "hdu_list.close()"
   ]
  },
  {
   "cell_type": "markdown",
   "metadata": {},
   "source": [
    "# Now I am going to try to produced count maps and light curves for a couple targets, I can't use MCAT to check FUV and NUV mags yet because the first pass read is still running. These will be picked manually from the list of targets produced by the manual read"
   ]
  },
  {
   "cell_type": "markdown",
   "metadata": {},
   "source": [
    "Step One - grab ligh curve data"
   ]
  },
  {
   "cell_type": "code",
   "execution_count": 2,
   "metadata": {
    "collapsed": false
   },
   "outputs": [
    {
     "name": "stdout",
     "output_type": "stream",
     "text": [
      "AB Magnitudes:               \n",
      "[ 15.09992072  15.14105483  15.12715254  15.01518347  15.07186494\n",
      "  15.12114944  15.2437277   15.15918206  15.11342626  15.12224617\n",
      "  15.22545893  15.16913346  15.24575886  15.20121393  15.15114908\n",
      "  15.10917956  15.12483713  15.05019077  15.09669044  15.14636117\n",
      "  15.10258504  15.13297587  15.08933925  15.12693202  15.15532866\n",
      "  15.11473506  15.06748027  15.05456907  15.07860583  15.08395698\n",
      "  15.07932786  15.1327506   15.13391354  15.17341807  15.13487818\n",
      "  15.14382188  15.13061741  15.08971039  14.97058452  15.14997326\n",
      "  15.1480025   15.13136191  15.09587585  15.18744939  15.11211532\n",
      "  15.10747674  15.12415259  15.10167156  15.2030998   15.20547441\n",
      "  15.11162576  15.07252052  15.0330081   15.0750583   15.12688987\n",
      "  15.13688316  15.06018352  15.15894755  15.14839292  15.13884487\n",
      "  15.18594126  15.17638777  15.13940563  15.0344691   14.92117316\n",
      "  15.07263972  15.25736508  15.15948196  15.17274493  15.18770046\n",
      "  15.064277    15.11803114  15.19495836  15.19748087  15.11882351\n",
      "  15.0059155   15.02053227  15.07687307  15.05905867  15.13768764\n",
      "  15.17041796  15.17615138  15.135195    15.18986716  15.18311189\n",
      "  15.10504801  15.17943745  15.04133574  15.09186402  15.06791478\n",
      "  15.07264497  15.19646724  15.09331163  15.17885522  15.16820276\n",
      "  15.16337458  15.17526998  15.19005609  15.10998253  15.09147918\n",
      "  15.21462596  15.12958327  15.04472063  15.26166871  15.13329171\n",
      "  15.1634117   15.15578201  15.15088734  15.21842137  15.08662117\n",
      "  15.14490566  15.09477337  15.13000272  15.1687559   15.13116028\n",
      "  15.09869715  15.16918724  15.14277557  15.26447893  15.12874137\n",
      "  15.18306797  15.0760577   14.97358406  15.06652998  15.14096814\n",
      "  15.21387899  15.11108706  15.12063424  15.09630115  15.23410428\n",
      "  15.12766457  15.17240218  15.1139397   15.10390599  15.06863571\n",
      "  15.05155848  15.19750829  15.11499726  15.13209184  15.12243959\n",
      "  15.14642874  15.16298755  15.19728008  15.16049529  15.10229123\n",
      "  15.15839654  15.08185484  15.0588891   15.14063905  15.166889\n",
      "  15.13808821  15.16746252  15.09389449  15.10129309  15.12668518\n",
      "  15.10946614  15.23762062  15.13682927  15.10619003  15.07508208\n",
      "  15.1107141   15.08980364  15.03174599  15.15710518  15.17719089\n",
      "  15.14124804  15.23517168  15.10708445  15.11245736  15.12871765\n",
      "  15.01468797  15.14438754  15.14088965  15.09198487  15.06042939\n",
      "  15.08451578  15.16484557  15.08216168  15.17064932  15.16252798\n",
      "  15.14125496  15.14642205]\n"
     ]
    }
   ],
   "source": [
    "AptData = gAperture(band = 'NUV', skypos=[136.503583, 4.629194], radius = 0.03, annulus = [0.03, 0.04], stepsz=10)"
   ]
  },
  {
   "cell_type": "code",
   "execution_count": 3,
   "metadata": {
    "collapsed": true
   },
   "outputs": [],
   "source": [
    "Mags = AptData['mag']"
   ]
  },
  {
   "cell_type": "code",
   "execution_count": 4,
   "metadata": {
    "collapsed": false
   },
   "outputs": [
    {
     "data": {
      "text/plain": [
       "182"
      ]
     },
     "execution_count": 4,
     "metadata": {},
     "output_type": "execute_result"
    }
   ],
   "source": [
    "len(Mags)"
   ]
  },
  {
   "cell_type": "code",
   "execution_count": 5,
   "metadata": {
    "collapsed": true
   },
   "outputs": [],
   "source": [
    "x = np.linspace(0, 1820, 182)"
   ]
  },
  {
   "cell_type": "code",
   "execution_count": 7,
   "metadata": {
    "collapsed": false,
    "scrolled": true
   },
   "outputs": [
    {
     "data": {
      "text/plain": [
       "[<matplotlib.lines.Line2D at 0x116522110>]"
      ]
     },
     "execution_count": 7,
     "metadata": {},
     "output_type": "execute_result"
    },
    {
     "data": {
      "image/png": "[encoded data removed]",
      "text/plain": [
       "<matplotlib.figure.Figure at 0x1064759d0>"
      ]
     },
     "metadata": {},
     "output_type": "display_data"
    }
   ],
   "source": [
    "plt.xlabel('Time (s)')\n",
    "plt.ylabel('Flux')\n",
    "plt.title('SDSS 090600.86+043745.1 light curve')\n",
    "plt.plot(x, Mags, 'o-')"
   ]
  },
  {
   "cell_type": "markdown",
   "metadata": {},
   "source": [
    "Step two - Grab count map data"
   ]
  },
  {
   "cell_type": "code",
   "execution_count": 73,
   "metadata": {
    "collapsed": false
   },
   "outputs": [],
   "source": [
    "CntData = gMap(band = 'NUV', skypos=[136.503583, 4.629194], coadd = True, \n",
    "               intfile='SDSS090600.86+043745.1Intensity.fits', cntfile='SDSS090600.86+043745.1Count.fits',\n",
    "              skyrange=[0.2, 0.2])"
   ]
  },
  {
   "cell_type": "markdown",
   "metadata": {
    "collapsed": true
   },
   "source": [
    "That was a sucsess, both the images appere to be okay, now we will do the same thing for a couple more stars, but I will write a function to automate it a bit more first"
   ]
  },
  {
   "cell_type": "code",
   "execution_count": 14,
   "metadata": {
    "collapsed": true
   },
   "outputs": [],
   "source": [
    "def GenLC(RA, Dec, b = 'NUV', incriment = 10):\n",
    "    gData = gAperture(band = b, skypos = [RA, Dec], radius = 0.03, annulus = [0.03, 0.04], stepsz = incriment,\n",
    "                     csvfile = 'GENLC' + str(RA) + str(Dec) + '.csv')\n",
    "    readlc = read_lc('GENLC' + str(RA) + str(Dec) + '.csv')\n",
    "    plt.plot(readlc['t_mean'], readlc['flux_bgsub'], 'ko')"
   ]
  },
  {
   "cell_type": "code",
   "execution_count": 15,
   "metadata": {
    "collapsed": false
   },
   "outputs": [
    {
     "data": {
      "image/png": "[encoded data removed]",
      "text/plain": [
       "<matplotlib.figure.Figure at 0x10efad110>"
      ]
     },
     "metadata": {},
     "output_type": "display_data"
    }
   ],
   "source": [
    "GenLC(136.503583, 4.629194)"
   ]
  },
  {
   "cell_type": "code",
   "execution_count": 19,
   "metadata": {
    "collapsed": true
   },
   "outputs": [],
   "source": [
    "def GenIMG(RA, Dec, Name='Star', b = 'NUV'):\n",
    "    gMap(band=b, skypos = [RA, Dec], skyrange = [0.1, 0.1], intfile=Name+'intensity.fits',\n",
    "        cntfile = Name+'Count.fits', coadd = True, overwrite = True)"
   ]
  },
  {
   "cell_type": "markdown",
   "metadata": {},
   "source": [
    "# Here I am using my GenIMG funcition to quickly generate some intensity and count maps for different targets, the function trades a bit of time saving for loosing some control, which for this porpus right now I am willing to do"
   ]
  },
  {
   "cell_type": "code",
   "execution_count": 8,
   "metadata": {
    "collapsed": false
   },
   "outputs": [],
   "source": [
    "GenIMG(136.503583, 4.629194)"
   ]
  },
  {
   "cell_type": "code",
   "execution_count": 20,
   "metadata": {
    "collapsed": false
   },
   "outputs": [],
   "source": [
    "GenIMG(12.731875, 43.561611, Name='FBS_0048+432A')"
   ]
  },
  {
   "cell_type": "code",
   "execution_count": 21,
   "metadata": {
    "collapsed": true
   },
   "outputs": [],
   "source": [
    "GenIMG(37.159375, 26.376750, Name='SDSSJ_022838.25+262236.3')"
   ]
  },
  {
   "cell_type": "code",
   "execution_count": 22,
   "metadata": {
    "collapsed": true
   },
   "outputs": [],
   "source": [
    "GenIMG(47.370167, -2.549931, Name='KUV_03070-0244')"
   ]
  },
  {
   "cell_type": "markdown",
   "metadata": {},
   "source": [
    "# Next we will do the same thing to all these stars, exept we will generate movies instead, first to write a movie function"
   ]
  },
  {
   "cell_type": "code",
   "execution_count": 29,
   "metadata": {
    "collapsed": true
   },
   "outputs": [],
   "source": [
    "def GenMOV(RA, Dec, Name='Star', b = 'NUV'):\n",
    "    gMap(band=b, skypos = [RA, Dec], skyrange = [0.1, 0.1], intfile=Name+'intensityMov.fits',\n",
    "        cntfile = Name+'CountMov.fits', overwrite = True, stepsz=10)"
   ]
  },
  {
   "cell_type": "code",
   "execution_count": 26,
   "metadata": {
    "collapsed": false
   },
   "outputs": [],
   "source": [
    "GenMOV(12.731875, 43.561611, Name='FBS_0048+432A')"
   ]
  },
  {
   "cell_type": "code",
   "execution_count": 30,
   "metadata": {
    "collapsed": true
   },
   "outputs": [],
   "source": [
    "GenMOV(37.159375, 26.376750, Name='SDSSJ_022838.25+262236.3')"
   ]
  },
  {
   "cell_type": "code",
   "execution_count": 28,
   "metadata": {
    "collapsed": true
   },
   "outputs": [],
   "source": [
    "GenMOV(47.370167, -2.549931, Name='KUV_03070-0244')"
   ]
  },
  {
   "cell_type": "markdown",
   "metadata": {},
   "source": [
    "# What did I learn from these last few commands? First of all FBS_0048+432A's movie actually came out quite well, it looks cool. You cant see the main stars in the other movies, this intially confused me because you can see them in the images I produced, however this makes sense, the movies have frames integrated over 10s exposures times, the images have a single frame integrated over all the avalible exposure time for these targets (all above 600s most above 1500s) thus they are far more visable."
   ]
  },
  {
   "cell_type": "code",
   "execution_count": 31,
   "metadata": {
    "collapsed": true
   },
   "outputs": [],
   "source": [
    "def GenMOV2(RA, Dec, Name='Star', b = 'NUV'):\n",
    "    gMap(band=b, skypos = [RA, Dec], skyrange = [0.1, 0.1], intfile=Name+'intensityMov.fits',\n",
    "        cntfile = Name+'CountMov.fits', overwrite = True, stepsz=100)"
   ]
  },
  {
   "cell_type": "markdown",
   "metadata": {},
   "source": [
    "# What I did above was to change the frame integration size, that made the star visible for the SDSS target, which more or less confirmed what I said before, that was the issue. Now I am going to work on getting the light curve thing to work, and maybe getting some automated lightcurve prodcution up and running."
   ]
  },
  {
   "cell_type": "code",
   "execution_count": 11,
   "metadata": {
    "collapsed": true
   },
   "outputs": [],
   "source": [
    "targetlistname = 'sdBLCMakeTest.csv'\n",
    "targetlist = open(targetlistname, 'rb')\n",
    "targetlist = targetlist.readlines()\n",
    "targetlist = [x.rsplit() for x in targetlist]"
   ]
  },
  {
   "cell_type": "code",
   "execution_count": 21,
   "metadata": {
    "collapsed": false
   },
   "outputs": [
    {
     "name": "stdout",
     "output_type": "stream",
     "text": [
      "0 data query(s) done\n",
      "1 data query(s) done\n",
      "2 data query(s) done\n",
      "3 data query(s) done\n",
      "4 data query(s) done\n"
     ]
    }
   ],
   "source": [
    "for i in range(5):\n",
    "    gData = gAperture(band = 'NUV', skypos = [float(targetlist[i][1]), float(targetlist[i][2])], radius = 0.03, \n",
    "                      annulus = [0.03, 0.04], stepsz = 10, csvfile = 'GENLC_' + str(targetlist[i][0]) + '.csv')\n",
    "    print i,'data query(s) done'\n",
    "    readlc = read_lc('GENLC_' + str(targetlist[i][0]) + '.csv')\n",
    "    plt.plot(readlc['t_mean'], readlc['flux_bgsub'], 'ko')\n",
    "    plt.savefig('GENLC_' + str(targetlist[i][0]) + '.pdf')\n",
    "    plt.close()"
   ]
  },
  {
   "cell_type": "markdown",
   "metadata": {},
   "source": [
    "# That generated 5 light curves sucssessfuly, however it was very slow, this is where the cluster might come in handy big time. Still have to talk to Dr. Fleming about the Light Curves, they look wonkey to me. Currently switching this into a script that can be run in a more automated fashion"
   ]
  },
  {
   "cell_type": "code",
   "execution_count": 81,
   "metadata": {
    "collapsed": false,
    "scrolled": false
   },
   "outputs": [],
   "source": [
    "# Prototype code for a script that will be part of pipeline\n",
    "# Will only work in directory where the file is present, so this may not work if you load up the notebook again\n",
    "#    and don't change its location, just so you know.\n",
    "testfile = read_lc('GENLC_PB_5670.csv')\n",
    "finalfile = []\n",
    "fluxfile = []\n",
    "fluxerr = []\n",
    "flags = []\n",
    "exptime = []\n",
    "detRAD = []\n",
    "gapnum = 0\n",
    "prevloc = 0\n",
    "greatestdiffernce = 0\n",
    "for i in range(len(testfile['t_mean'])):\n",
    "    if i+1 < len(testfile['t_mean']):\n",
    "        if testfile['t_mean'][i+1] - testfile['t_mean'][i] > 1800:\n",
    "            differnce = testfile['t_mean'][i+1] - testfile['t_mean'][i]\n",
    "            if differnce > greatestdiffernce:\n",
    "                greatestdiffernce = differnce\n",
    "            else:\n",
    "                pass\n",
    "            finalfile.append(testfile['t_mean'][prevloc:i+1])\n",
    "            fluxfile.append(testfile['flux_bgsub'][prevloc:i+1])\n",
    "            fluxerr.append(testfile['flux_err'][prevloc:i+1])\n",
    "            flags.append(testfile['flags'][prevloc:i+1])\n",
    "            exptime.append(testfile['exptime'][prevloc:i+1])\n",
    "            detRAD.append(testfile['detrad'][prevloc:i+1])\n",
    "            prevloc = i+1\n",
    "            gapnum += 1\n",
    "        else:\n",
    "            pass\n",
    "    else:\n",
    "        pass\n",
    "finalfile = [x.tolist() for x in finalfile]\n",
    "fluxfile = [x.tolist() for x in fluxfile]\n",
    "fluxerr = [x.tolist() for x in fluxerr]\n",
    "flags = [x.tolist() for x in flags]\n",
    "exptime = [x.tolist() for x in exptime]\n",
    "detRAD = [x.tolist() for x in detRAD]\n",
    "\n",
    "for i in range(len(finalfile)):\n",
    "    goodflux = []\n",
    "    goodtime = []\n",
    "    gooderr = []\n",
    "    badflux = []\n",
    "    badtime = []\n",
    "    baderr = []\n",
    "    for j in range(len(fluxerr[i])):\n",
    "        if flags[i][j] is not 0:\n",
    "            badflux.append(fluxfile[i][j])\n",
    "            badtime.append(finalfile[i][j])\n",
    "            baderr.append(fluxerr[i][j])\n",
    "        else:\n",
    "            goodflux.append(fluxfile[i][j])\n",
    "            goodtime.append(finalfile[i][j])\n",
    "            gooderr.append(fluxerr[i][j])\n",
    "    plt.errorbar(goodtime, goodflux, yerr=gooderr, fmt='o')\n",
    "    plt.errorbar(badtime, badflux, yerr=baderr, fmt='o') # Work on getting flags running, your close but not there\n",
    "    plt.plot(goodtime, goodflux, 'ko-')\n",
    "    plt.plot(badtime, badflux, 'ro-')\n",
    "    plt.xlabel('Time(s)')\n",
    "    plt.ylabel('Background subtracted Flux')\n",
    "    plt.savefig('PB_5670_LC_ZONE' + str(i+1) + '.pdf')\n",
    "    plt.close()\n",
    "    plt.plot(finalfile[i], exptime[i], 'o-')\n",
    "    plt.xlabel('Time(s)')\n",
    "    plt.ylabel('Effective Exposure time (s)')\n",
    "    plt.savefig('PB_5670_EXPvsTIME_ZONE' + str(i+1) + '.pdf')\n",
    "    plt.close()\n",
    "    plt.plot(finalfile[i], detRAD[i], 'o-')\n",
    "    plt.xlabel('Time(s)')\n",
    "    plt.ylabel('Effective Radius (units)')\n",
    "    plt.savefig('PB_5670_RADvsTIME_ZONE' + str(i+1) + '.pdf')\n",
    "    plt.close()\n",
    "    \n",
    "# gFind(band ='NUV', skypos = [0.095125, 0.109931], maxgap = 100., minexp=600.)"
   ]
  },
  {
   "cell_type": "markdown",
   "metadata": {},
   "source": [
    "# More or less this works, it creates the plots and does a good job of finding the subsections that I am interested in, which is fun and all. Now I will write code to output HTML"
   ]
  },
  {
   "cell_type": "code",
   "execution_count": 21,
   "metadata": {
    "collapsed": false
   },
   "outputs": [],
   "source": [
    "def dirreturn():\n",
    "    os.chdir('/Users/tboudreaux/Programming/SummerSTSCI')"
   ]
  },
  {
   "cell_type": "code",
   "execution_count": 41,
   "metadata": {
    "collapsed": true
   },
   "outputs": [],
   "source": [
    "# This cell is here to reset the working directory for you, run it and you will be retunred\n",
    "dirreturn()"
   ]
  },
  {
   "cell_type": "code",
   "execution_count": 72,
   "metadata": {
    "collapsed": false
   },
   "outputs": [
    {
     "ename": "IndentationError",
     "evalue": "expected an indented block (<ipython-input-72-26e2749a78d3>, line 51)",
     "output_type": "error",
     "traceback": [
      "\u001b[0;36m  File \u001b[0;32m\"<ipython-input-72-26e2749a78d3>\"\u001b[0;36m, line \u001b[0;32m51\u001b[0m\n\u001b[0;31m    htmlout.close()\u001b[0m\n\u001b[0m          ^\u001b[0m\n\u001b[0;31mIndentationError\u001b[0m\u001b[0;31m:\u001b[0m expected an indented block\n"
     ]
    }
   ],
   "source": [
    "dirreturn()\n",
    "start = os.path.abspath('.')\n",
    "os.chdir('sdBs/TwentyRun')\n",
    "dir = os.listdir('.')\n",
    "numtarg = len(dir)\n",
    "for i in range(numtarg):\n",
    "    numzones = 0\n",
    "    pathtox = []\n",
    "    try:\n",
    "        os.chdir(dir[i])\n",
    "        checkzones = os.listdir('.')\n",
    "        for x in checkzones:\n",
    "            if '.png' in x:\n",
    "                pathtox.append(os.path.abspath(x))\n",
    "                zonefind = x.find('ZONE')\n",
    "                if int(x[zonefind+5]) > int(numzones):\n",
    "                    numzones = int(x[zonefind+5])\n",
    "                else:\n",
    "                    pass\n",
    "        for j in range(numzones):\n",
    "            htmlout = open(dir[i] + 'ZONE_' + str(j+1) + '.html', 'w')\n",
    "            if j < numzones-1:\n",
    "                nextlink = os.path.abspath('.') + '/' + dir[i] + 'ZONE_' + str(j+2) + '.html'\n",
    "            else:\n",
    "                precheckhtml = os.listdir(os.path.abspath('..') + '/' + dir[i+1])\n",
    "                print precheckhtml\n",
    "                htmlgo = False\n",
    "                for x in precheckhtml:\n",
    "                    if '.html' in x:\n",
    "                        htmlgo = True\n",
    "                    else:\n",
    "                        pass\n",
    "                nextlink = os.path.abspath('..') + '/' + dir[i+1] + '/' + dir[i+1] + 'ZONE_1.html'\n",
    "            if htmlgo is True:\n",
    "                htmlout.write('<!DOCTYPE html>\\n'\n",
    "                          '<html>\\n'\n",
    "                          '<head>\\n'\n",
    "                          '<title>Summer STScI gPhoton HTML pipleline</title>\\n'\n",
    "                          '</head>\\n'\n",
    "                          '<body>\\n'\n",
    "                          '<h1>STScI Summer internship pipeline</h1>\\n'\n",
    "                          '<table style = \"width:100%\">\\n'\n",
    "                          '\\t<td><img src=\"' + pathtox[j] + '\" alt=\"img\", style=\"width:1400px;height:700px;\"></td>\\n'\n",
    "                          '</table>\\n'\n",
    "                          '<form action=\"' + nextlink + '\">\\n'\n",
    "                          '\\t<input type=\"submit\" value=\"Go To Google\">\\n'\n",
    "                          '</form>'\n",
    "                          '</body>\\n'\n",
    "                          '</html>')\n",
    "            else:\n",
    "                htmlout.write('<!DOCTYPE html>\\n'\n",
    "                          '<html>\\n'\n",
    "                          '<head>\\n'\n",
    "                          '<title>Summer STScI gPhoton HTML pipleline</title>\\n'\n",
    "                          '</head>\\n'\n",
    "                          '<body>\\n'\n",
    "                          '<h1>STScI Summer internship pipeline</h1>\\n'\n",
    "                          '<table style = \"width:100%\">\\n'\n",
    "                          '\\t<td><img src=\"' + pathtox[j] + '\" alt=\"img\", style=\"width:1400px;height:700px;\"></td>\\n'\n",
    "                          '</table>\\n'\n",
    "                          '</body>\\n'\n",
    "                          '</html>')\n",
    "            htmlout.close()\n",
    "        os.chdir('..')\n",
    "    except OSError:\n",
    "        pass\n",
    "os.chdir(start)"
   ]
  },
  {
   "cell_type": "code",
   "execution_count": null,
   "metadata": {
    "collapsed": false
   },
   "outputs": [],
   "source": []
  }
 ],
 "metadata": {
  "kernelspec": {
   "display_name": "Python 2",
   "language": "python",
   "name": "python2"
  },
  "language_info": {
   "codemirror_mode": {
    "name": "ipython",
    "version": 2
   },
   "file_extension": ".py",
   "mimetype": "text/x-python",
   "name": "python",
   "nbconvert_exporter": "python",
   "pygments_lexer": "ipython2",
   "version": "2.7.11"
  }
 },
 "nbformat": 4,
 "nbformat_minor": 0
}
