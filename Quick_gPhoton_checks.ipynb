{
 "cells": [
  {
   "cell_type": "code",
   "execution_count": 1,
   "metadata": {
    "collapsed": false
   },
   "outputs": [],
   "source": [
    "from gPhoton.gFind import *"
   ]
  },
  {
   "cell_type": "code",
   "execution_count": 18,
   "metadata": {
    "collapsed": false,
    "scrolled": true
   },
   "outputs": [
    {
     "name": "stdout",
     "output_type": "stream",
     "text": [
      "NUV: 2872.0s (raw) in 2 exposures.\n",
      "    [ 875349342.995, 875350679.995 ], 1337.000 seconds\n",
      "    [ 875355260.995, 875356795.995 ], 1535.000 seconds\n"
     ]
    }
   ],
   "source": [
    "gData = gFind(band='NUV',skypos=[0.298542,0.061833],maxgap=100.,minexp=600.)"
   ]
  },
  {
   "cell_type": "code",
   "execution_count": 12,
   "metadata": {
    "collapsed": false
   },
   "outputs": [
    {
     "name": "stdout",
     "output_type": "stream",
     "text": [
      "{'NUV': {'t1': array([  8.75350680e+08,   8.75356796e+08]), 't0': array([  8.75349343e+08,   8.75355261e+08]), 'expt': 2872.0}}\n"
     ]
    }
   ],
   "source": [
    "print gData"
   ]
  },
  {
   "cell_type": "code",
   "execution_count": 14,
   "metadata": {
    "collapsed": false
   },
   "outputs": [
    {
     "data": {
      "text/plain": [
       "['t1', 't0', 'expt']"
      ]
     },
     "execution_count": 14,
     "metadata": {},
     "output_type": "execute_result"
    }
   ],
   "source": [
    "gData['NUV'].keys()"
   ]
  },
  {
   "cell_type": "code",
   "execution_count": 2,
   "metadata": {
    "collapsed": false
   },
   "outputs": [
    {
     "name": "stdout",
     "output_type": "stream",
     "text": [
      "NUV: 3711.0s (raw) in 5 exposures.\n",
      "    [ 750688158.995, 750688272.995 ], 114.000 seconds\n",
      "    [ 875248746.995, 875249191.995 ], 445.000 seconds\n",
      "    [ 875349342.995, 875350679.995 ], 1337.000 seconds\n",
      "    [ 875355260.995, 875356795.995 ], 1535.000 seconds\n",
      "    [ 875397938.995, 875398218.995 ], 280.000 seconds\n"
     ]
    },
    {
     "data": {
      "text/plain": [
       "{'NUV': {'expt': 3711.0,\n",
       "  't0': array([  7.50688159e+08,   8.75248747e+08,   8.75349343e+08,\n",
       "           8.75355261e+08,   8.75397939e+08]),\n",
       "  't1': array([  7.50688273e+08,   8.75249192e+08,   8.75350680e+08,\n",
       "           8.75356796e+08,   8.75398219e+08])}}"
      ]
     },
     "execution_count": 2,
     "metadata": {},
     "output_type": "execute_result"
    }
   ],
   "source": [
    "gFind(band = 'NUV', skypos = [0.095125, 0.109931], maxgap = 100., minexp = 100.)"
   ]
  },
  {
   "cell_type": "code",
   "execution_count": 3,
   "metadata": {
    "collapsed": false
   },
   "outputs": [
    {
     "name": "stdout",
     "output_type": "stream",
     "text": [
      "NUV: 5608.0s (raw) in 8 exposures.\n",
      "    [ 842324331.995, 842324461.995 ], 130.000 seconds\n",
      "    [ 846057578.995, 846057716.995 ], 138.000 seconds\n",
      "    [ 875337508.995, 875338072.995 ], 564.000 seconds\n",
      "    [ 875486764.995, 875486984.995 ], 220.000 seconds\n",
      "    [ 875569366.995, 875569833.995 ], 467.000 seconds\n",
      "    [ 875988619.995, 875989964.995 ], 1345.000 seconds\n",
      "    [ 875994836.995, 875995880.995 ], 1044.000 seconds\n",
      "    [ 907136239.995, 907137939.995 ], 1700.000 seconds\n"
     ]
    },
    {
     "data": {
      "text/plain": [
       "{'NUV': {'expt': 5608.0,\n",
       "  't0': array([  8.42324332e+08,   8.46057579e+08,   8.75337509e+08,\n",
       "           8.75486765e+08,   8.75569367e+08,   8.75988620e+08,\n",
       "           8.75994837e+08,   9.07136240e+08]),\n",
       "  't1': array([  8.42324462e+08,   8.46057717e+08,   8.75338073e+08,\n",
       "           8.75486985e+08,   8.75569834e+08,   8.75989965e+08,\n",
       "           8.75995881e+08,   9.07137940e+08])}}"
      ]
     },
     "execution_count": 3,
     "metadata": {},
     "output_type": "execute_result"
    }
   ],
   "source": [
    "gFind(band = 'NUV', skypos = [1.594292, 1.166369], maxgap = 100., minexp = 100.)"
   ]
  },
  {
   "cell_type": "code",
   "execution_count": 14,
   "metadata": {
    "collapsed": false
   },
   "outputs": [
    {
     "name": "stdout",
     "output_type": "stream",
     "text": [
      "Using matplotlib backend: MacOSX\n"
     ]
    }
   ],
   "source": [
    "import numpy as np\n",
    "\n",
    "# Set up matplotlib and use a nicer set of plot parameters\n",
    "%config InlineBackend.rc = {}\n",
    "import matplotlib\n",
    "import matplotlib.pyplot as plt\n",
    "%matplotlib auto"
   ]
  },
  {
   "cell_type": "code",
   "execution_count": 4,
   "metadata": {
    "collapsed": false
   },
   "outputs": [],
   "source": [
    "from astropy.utils.data import download_file"
   ]
  },
  {
   "cell_type": "code",
   "execution_count": 5,
   "metadata": {
    "collapsed": true
   },
   "outputs": [],
   "source": [
    "from astropy.io import fits"
   ]
  },
  {
   "cell_type": "code",
   "execution_count": 6,
   "metadata": {
    "collapsed": false
   },
   "outputs": [
    {
     "name": "stdout",
     "output_type": "stream",
     "text": [
      "Downloading http://data.astropy.org/tutorials/FITS-images/HorseHead.fits [Done]\n"
     ]
    }
   ],
   "source": [
    "image_file = download_file('http://data.astropy.org/tutorials/FITS-images/HorseHead.fits', cache=True )"
   ]
  },
  {
   "cell_type": "code",
   "execution_count": 7,
   "metadata": {
    "collapsed": false
   },
   "outputs": [
    {
     "name": "stdout",
     "output_type": "stream",
     "text": [
      "Filename: /Users/tboudreaux/.astropy/cache/download/2c9202ae878ecfcb60878ceb63837f5f\n",
      "No.    Name         Type      Cards   Dimensions   Format\n",
      "0    PRIMARY     PrimaryHDU     161   (891, 893)   int16   \n",
      "1    er.mask     TableHDU        25   1600R x 4C   [F6.2, F6.2, F6.2, F6.2]   \n"
     ]
    }
   ],
   "source": [
    "hdu_list = fits.open(image_file)\n",
    "hdu_list.info()"
   ]
  },
  {
   "cell_type": "code",
   "execution_count": 8,
   "metadata": {
    "collapsed": true
   },
   "outputs": [],
   "source": [
    "image_data = hdu_list[0].da"
   ]
  },
  {
   "cell_type": "code",
   "execution_count": 9,
   "metadata": {
    "collapsed": false
   },
   "outputs": [
    {
     "name": "stdout",
     "output_type": "stream",
     "text": [
      "<type 'numpy.ndarray'>\n",
      "(893, 891)\n"
     ]
    }
   ],
   "source": [
    "print(type(image_data))\n",
    "print(image_data.shape)"
   ]
  },
  {
   "cell_type": "code",
   "execution_count": 10,
   "metadata": {
    "collapsed": true
   },
   "outputs": [],
   "source": [
    "hdu_list.close()"
   ]
  },
  {
   "cell_type": "code",
   "execution_count": 11,
   "metadata": {
    "collapsed": false
   },
   "outputs": [
    {
     "name": "stdout",
     "output_type": "stream",
     "text": [
      "<type 'numpy.ndarray'>\n",
      "(893, 891)\n"
     ]
    }
   ],
   "source": [
    "image_data = fits.getdata(image_file)\n",
    "print(type(image_data))\n",
    "print(image_data.shape)"
   ]
  },
  {
   "cell_type": "code",
   "execution_count": 22,
   "metadata": {
    "collapsed": false
   },
   "outputs": [],
   "source": [
    "tmp = plt.imshow(image_data, cmap='gray')\n",
    "plt.colorbar()\n",
    "plt.savefig('test.png', dpi=426)\n",
    "plt.close()"
   ]
  },
  {
   "cell_type": "code",
   "execution_count": 17,
   "metadata": {
    "collapsed": true
   },
   "outputs": [],
   "source": [
    "import os"
   ]
  },
  {
   "cell_type": "code",
   "execution_count": 19,
   "metadata": {
    "collapsed": false
   },
   "outputs": [
    {
     "data": {
      "text/plain": [
       "['.DS_Store',\n",
       " '.ipynb_checkpoints',\n",
       " 'catalogue_sdb_v6.csv',\n",
       " 'DynamicGAP.py',\n",
       " 'f2n',\n",
       " 'FirstPassStuff',\n",
       " 'HTMLMake.py',\n",
       " 'index.html',\n",
       " 'indextext.html',\n",
       " 'lctone.csv',\n",
       " 'Learning_gPhoton.ipynb',\n",
       " 'LMMaker.py',\n",
       " 'MCAT.log',\n",
       " 'MCATMaker.py',\n",
       " 'PNGMake.py',\n",
       " 'Quick_gPhoton_checks.ipynb',\n",
       " 'README.txt',\n",
       " 'ReadTestOne.py',\n",
       " 'ReadTestTwo.py',\n",
       " 'sdBBackup.csv',\n",
       " 'sdBLCMakeTest.csv',\n",
       " 'sdBs',\n",
       " 'sdBTargBackupTwo.csv',\n",
       " 'sdBTargetBackup.csv',\n",
       " 'sdBTargOut.csv',\n",
       " 'test.png',\n",
       " 'TestLightCurves',\n",
       " 'TestMaps',\n",
       " 'TwentyRunTarg.csv']"
      ]
     },
     "execution_count": 19,
     "metadata": {},
     "output_type": "execute_result"
    }
   ],
   "source": [
    "os.listdir('.')"
   ]
  },
  {
   "cell_type": "code",
   "execution_count": null,
   "metadata": {
    "collapsed": true
   },
   "outputs": [],
   "source": []
  }
 ],
 "metadata": {
  "kernelspec": {
   "display_name": "Python 2",
   "language": "python",
   "name": "python2"
  },
  "language_info": {
   "codemirror_mode": {
    "name": "ipython",
    "version": 2
   },
   "file_extension": ".py",
   "mimetype": "text/x-python",
   "name": "python",
   "nbconvert_exporter": "python",
   "pygments_lexer": "ipython2",
   "version": "2.7.11"
  }
 },
 "nbformat": 4,
 "nbformat_minor": 0
}
